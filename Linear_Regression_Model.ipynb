{
  "nbformat": 4,
  "nbformat_minor": 0,
  "metadata": {
    "colab": {
      "name": "Linear Regression-Model",
      "provenance": [],
      "collapsed_sections": [],
      "authorship_tag": "ABX9TyObmP5fu3ij00cSLp60Cp5m",
      "include_colab_link": true
    },
    "kernelspec": {
      "name": "python3",
      "display_name": "Python 3"
    }
  },
  "cells": [
    {
      "cell_type": "markdown",
      "metadata": {
        "id": "view-in-github",
        "colab_type": "text"
      },
      "source": [
        "<a href=\"https://colab.research.google.com/github/smwongela/Linear-Regression-Python/blob/master/Linear_Regression_Model.ipynb\" target=\"_parent\"><img src=\"https://colab.research.google.com/assets/colab-badge.svg\" alt=\"Open In Colab\"/></a>"
      ]
    },
    {
      "cell_type": "code",
      "metadata": {
        "id": "kCsQTWJTOjFr",
        "colab_type": "code",
        "colab": {}
      },
      "source": [
        "import numpy as np\n",
        "import pandas as pd\n",
        "import tensorflow as tf\n",
        "from matplotlib import pyplot as plt"
      ],
      "execution_count": null,
      "outputs": []
    },
    {
      "cell_type": "code",
      "metadata": {
        "id": "cppwbKdjCpbe",
        "colab_type": "code",
        "colab": {}
      },
      "source": [
        "#@title Define the DataSet\n",
        "my_feature =([1.0, 2.0,  3.0,  4.0,  5.0,  6.0,  7.0,  8.0,  9.0, 10.0, 11.0, 12.0])\n",
        "my_label=([5.0, 8.8,  9.6, 14.2, 18.8, 19.5, 21.4, 26.8, 28.9, 32.0, 33.8, 38.2])"
      ],
      "execution_count": null,
      "outputs": []
    },
    {
      "cell_type": "code",
      "metadata": {
        "id": "nB10NxNU2svZ",
        "colab_type": "code",
        "colab": {}
      },
      "source": [
        "#@title Define the functions that build and train a model\n",
        "def build_model(my_learning_rate):\n",
        "  \"\"\"Create and compile a simple linear regression model.\"\"\"\n",
        "  # Most simple tf.keras models are sequential. \n",
        "  # A sequential model contains one or more layers.\n",
        "  model = tf.keras.models.Sequential()\n",
        "  # Describe the topography of the model.\n",
        "  # The topography of a simple linear regression model\n",
        "  # is a single node in a single layer. \n",
        "  model.add(tf.keras.layers.Dense(units=1, input_shape=(1,)))\n",
        "  # Compile the model topography into code that \n",
        "  # TensorFlow can efficiently execute. Configure \n",
        "  # training to minimize the model's mean squared error. \n",
        "  model.compile(optimizer=tf.keras.optimizers.RMSprop(lr=my_learning_rate),loss=\"mean_squared_error\",metrics=[tf.keras.metrics.RootMeanSquaredError()])\n",
        "  return model\n",
        "\n"
      ],
      "execution_count": null,
      "outputs": []
    },
    {
      "cell_type": "code",
      "metadata": {
        "id": "RClEqnhw5Ion",
        "colab_type": "code",
        "colab": {}
      },
      "source": [
        "def train_model(model,feature,label,epochs,batch_size):\n",
        "  \"\"\"Train the model by feeding it data.\"\"\"\n",
        "   # Feed the feature values and the label values to the \n",
        "  # model. The model will train for the specified number \n",
        "  # of epochs, gradually learning how the feature values\n",
        "  # relate to the label values. \n",
        "  history = model.fit(x=feature, y=label,batch_size=batch_size,epochs=epochs)\n",
        "  \n",
        "  # Gather the trained model's weight and bias.\n",
        "  trained_weight = model.get_weights()[0]\n",
        "  trained_bias=model.get_weights()[1]\n",
        "    # The list of epochs is stored separately from the \n",
        "  # rest of history.\n",
        "  epochs=history.epoch\n",
        "\n",
        "   # Gather the history (a snapshot) of each epoch.\n",
        "  hist=pd.DataFrame(history.history)\n",
        "   # Specifically gather the model's root mean \n",
        "  #squared error at each epoch. \n",
        "  rmse = hist[\"root_mean_squared_error\"]\n",
        "\n",
        "  return trained_weight, trained_bias, epochs, rmse\n",
        "\n",
        "  print(\"Defined create_model and train_model\")\n",
        "\n"
      ],
      "execution_count": null,
      "outputs": []
    },
    {
      "cell_type": "code",
      "metadata": {
        "id": "k3W7287L8-ay",
        "colab_type": "code",
        "colab": {}
      },
      "source": [
        "#@title Define the plotting functions\n",
        "def plot_the_model(trained_weight, trained_bias, feature, label):\n",
        " \"\"\"Plot the trained model against the training feature and label.\"\"\"\n",
        " # Label the axis\n",
        " plt.xlabel(\"feature\")\n",
        " plt.ylabel(\"label\")\n",
        "\n",
        " # Plot the faeature values vs. label values.\n",
        " plt.scatter(feature, label)\n",
        "\n",
        " #  Create a red line representing the model. The red line starts\n",
        "  # at coordinates (x0, y0) and ends at coordinates (x1, y1).\n",
        " x0 = 0\n",
        " y0 = trained_bias\n",
        " x1 = my_feature[-1]\n",
        " y1= trained_bias+(trained_weight* x1)\n",
        " plt.plot([x0,x1],[y0,y1], c='r')\n",
        "   # Render the scatter plot and the red line.\n",
        " plt.show()\n",
        "def plot_the_loss_curve(epochs,rmse):\n",
        "  \"\"\"plot the loss curve, which shows loss vs. epoch.\"\"\"\n",
        "  plt.figure()\n",
        "  plt.xlabel(\"Epoch\")\n",
        "  plt.ylabel(\"Root Mean Squared Error\")\n",
        "\n",
        "  plt.plot(epochs, rmse, label=\"loss\")\n",
        "  plt.legend()\n",
        "  plt.ylim([rmse.min()*0.97,rmse.max()])\n",
        "  plt.show()\n",
        "  \n",
        "  print(\"Definet the plot_the_model and plot_the_loss_curve functions.\")\n"
      ],
      "execution_count": null,
      "outputs": []
    },
    {
      "cell_type": "code",
      "metadata": {
        "id": "pfdxOzVHDP5S",
        "colab_type": "code",
        "colab": {
          "base_uri": "https://localhost:8080/",
          "height": 1000
        },
        "outputId": "28e8b99a-0f66-4500-904d-efddc990dfcf"
      },
      "source": [
        "#@title Specify the hyperparameters\n",
        "learning_rate=0.20\n",
        "epochs=70\n",
        "my_batch_size=12\n",
        "\n",
        "my_model =  build_model(learning_rate)\n",
        "trained_weight, trained_bias, epochs, rmse = train_model(my_model, my_feature,my_label,epochs,my_batch_size)\n",
        "plot_the_model(trained_weight, trained_bias,my_feature, my_label)\n",
        "plot_the_loss_curve(epochs,rmse)"
      ],
      "execution_count": null,
      "outputs": [
        {
          "output_type": "stream",
          "text": [
            "Epoch 1/70\n",
            "1/1 [==============================] - 0s 1ms/step - loss: 1113.8644 - root_mean_squared_error: 33.3746\n",
            "Epoch 2/70\n",
            "1/1 [==============================] - 0s 1ms/step - loss: 792.8398 - root_mean_squared_error: 28.1574\n",
            "Epoch 3/70\n",
            "1/1 [==============================] - 0s 1ms/step - loss: 609.6953 - root_mean_squared_error: 24.6920\n",
            "Epoch 4/70\n",
            "1/1 [==============================] - 0s 983us/step - loss: 482.4150 - root_mean_squared_error: 21.9639\n",
            "Epoch 5/70\n",
            "1/1 [==============================] - 0s 986us/step - loss: 386.8714 - root_mean_squared_error: 19.6690\n",
            "Epoch 6/70\n",
            "1/1 [==============================] - 0s 1ms/step - loss: 312.2398 - root_mean_squared_error: 17.6703\n",
            "Epoch 7/70\n",
            "1/1 [==============================] - 0s 1ms/step - loss: 252.5912 - root_mean_squared_error: 15.8931\n",
            "Epoch 8/70\n",
            "1/1 [==============================] - 0s 1ms/step - loss: 204.2629 - root_mean_squared_error: 14.2921\n",
            "Epoch 9/70\n",
            "1/1 [==============================] - 0s 1ms/step - loss: 164.7986 - root_mean_squared_error: 12.8374\n",
            "Epoch 10/70\n",
            "1/1 [==============================] - 0s 1ms/step - loss: 132.4493 - root_mean_squared_error: 11.5087\n",
            "Epoch 11/70\n",
            "1/1 [==============================] - 0s 1ms/step - loss: 105.9100 - root_mean_squared_error: 10.2913\n",
            "Epoch 12/70\n",
            "1/1 [==============================] - 0s 1ms/step - loss: 84.1709 - root_mean_squared_error: 9.1745\n",
            "Epoch 13/70\n",
            "1/1 [==============================] - 0s 2ms/step - loss: 66.4265 - root_mean_squared_error: 8.1502\n",
            "Epoch 14/70\n",
            "1/1 [==============================] - 0s 2ms/step - loss: 52.0195 - root_mean_squared_error: 7.2125\n",
            "Epoch 15/70\n",
            "1/1 [==============================] - 0s 1ms/step - loss: 40.4026 - root_mean_squared_error: 6.3563\n",
            "Epoch 16/70\n",
            "1/1 [==============================] - 0s 1ms/step - loss: 31.1143 - root_mean_squared_error: 5.5780\n",
            "Epoch 17/70\n",
            "1/1 [==============================] - 0s 1ms/step - loss: 23.7609 - root_mean_squared_error: 4.8745\n",
            "Epoch 18/70\n",
            "1/1 [==============================] - 0s 1ms/step - loss: 18.0053 - root_mean_squared_error: 4.2433\n",
            "Epoch 19/70\n",
            "1/1 [==============================] - 0s 1ms/step - loss: 13.5576 - root_mean_squared_error: 3.6821\n",
            "Epoch 20/70\n",
            "1/1 [==============================] - 0s 2ms/step - loss: 10.1694 - root_mean_squared_error: 3.1889\n",
            "Epoch 21/70\n",
            "1/1 [==============================] - 0s 2ms/step - loss: 7.6284 - root_mean_squared_error: 2.7620\n",
            "Epoch 22/70\n",
            "1/1 [==============================] - 0s 1ms/step - loss: 5.7554 - root_mean_squared_error: 2.3990\n",
            "Epoch 23/70\n",
            "1/1 [==============================] - 0s 1ms/step - loss: 4.4001 - root_mean_squared_error: 2.0977\n",
            "Epoch 24/70\n",
            "1/1 [==============================] - 0s 1ms/step - loss: 3.4390 - root_mean_squared_error: 1.8544\n",
            "Epoch 25/70\n",
            "1/1 [==============================] - 0s 1ms/step - loss: 2.7716 - root_mean_squared_error: 1.6648\n",
            "Epoch 26/70\n",
            "1/1 [==============================] - 0s 1ms/step - loss: 2.3183 - root_mean_squared_error: 1.5226\n",
            "Epoch 27/70\n",
            "1/1 [==============================] - 0s 1ms/step - loss: 2.0172 - root_mean_squared_error: 1.4203\n",
            "Epoch 28/70\n",
            "1/1 [==============================] - 0s 1ms/step - loss: 1.8216 - root_mean_squared_error: 1.3497\n",
            "Epoch 29/70\n",
            "1/1 [==============================] - 0s 1ms/step - loss: 1.6967 - root_mean_squared_error: 1.3026\n",
            "Epoch 30/70\n",
            "1/1 [==============================] - 0s 2ms/step - loss: 1.6179 - root_mean_squared_error: 1.2720\n",
            "Epoch 31/70\n",
            "1/1 [==============================] - 0s 1ms/step - loss: 1.5681 - root_mean_squared_error: 1.2522\n",
            "Epoch 32/70\n",
            "1/1 [==============================] - 0s 2ms/step - loss: 1.5357 - root_mean_squared_error: 1.2392\n",
            "Epoch 33/70\n",
            "1/1 [==============================] - 0s 1ms/step - loss: 1.5134 - root_mean_squared_error: 1.2302\n",
            "Epoch 34/70\n",
            "1/1 [==============================] - 0s 1ms/step - loss: 1.4966 - root_mean_squared_error: 1.2234\n",
            "Epoch 35/70\n",
            "1/1 [==============================] - 0s 1ms/step - loss: 1.4826 - root_mean_squared_error: 1.2176\n",
            "Epoch 36/70\n",
            "1/1 [==============================] - 0s 1ms/step - loss: 1.4698 - root_mean_squared_error: 1.2123\n",
            "Epoch 37/70\n",
            "1/1 [==============================] - 0s 1ms/step - loss: 1.4574 - root_mean_squared_error: 1.2072\n",
            "Epoch 38/70\n",
            "1/1 [==============================] - 0s 1ms/step - loss: 1.4450 - root_mean_squared_error: 1.2021\n",
            "Epoch 39/70\n",
            "1/1 [==============================] - 0s 1ms/step - loss: 1.4323 - root_mean_squared_error: 1.1968\n",
            "Epoch 40/70\n",
            "1/1 [==============================] - 0s 1ms/step - loss: 1.4194 - root_mean_squared_error: 1.1914\n",
            "Epoch 41/70\n",
            "1/1 [==============================] - 0s 1ms/step - loss: 1.4061 - root_mean_squared_error: 1.1858\n",
            "Epoch 42/70\n",
            "1/1 [==============================] - 0s 2ms/step - loss: 1.3924 - root_mean_squared_error: 1.1800\n",
            "Epoch 43/70\n",
            "1/1 [==============================] - 0s 2ms/step - loss: 1.3784 - root_mean_squared_error: 1.1741\n",
            "Epoch 44/70\n",
            "1/1 [==============================] - 0s 1ms/step - loss: 1.3641 - root_mean_squared_error: 1.1679\n",
            "Epoch 45/70\n",
            "1/1 [==============================] - 0s 2ms/step - loss: 1.3494 - root_mean_squared_error: 1.1616\n",
            "Epoch 46/70\n",
            "1/1 [==============================] - 0s 1ms/step - loss: 1.3344 - root_mean_squared_error: 1.1551\n",
            "Epoch 47/70\n",
            "1/1 [==============================] - 0s 2ms/step - loss: 1.3191 - root_mean_squared_error: 1.1485\n",
            "Epoch 48/70\n",
            "1/1 [==============================] - 0s 1ms/step - loss: 1.3035 - root_mean_squared_error: 1.1417\n",
            "Epoch 49/70\n",
            "1/1 [==============================] - 0s 1ms/step - loss: 1.2877 - root_mean_squared_error: 1.1348\n",
            "Epoch 50/70\n",
            "1/1 [==============================] - 0s 1ms/step - loss: 1.2716 - root_mean_squared_error: 1.1277\n",
            "Epoch 51/70\n",
            "1/1 [==============================] - 0s 3ms/step - loss: 1.2554 - root_mean_squared_error: 1.1205\n",
            "Epoch 52/70\n",
            "1/1 [==============================] - 0s 1ms/step - loss: 1.2390 - root_mean_squared_error: 1.1131\n",
            "Epoch 53/70\n",
            "1/1 [==============================] - 0s 2ms/step - loss: 1.2225 - root_mean_squared_error: 1.1057\n",
            "Epoch 54/70\n",
            "1/1 [==============================] - 0s 1ms/step - loss: 1.2060 - root_mean_squared_error: 1.0982\n",
            "Epoch 55/70\n",
            "1/1 [==============================] - 0s 1ms/step - loss: 1.1894 - root_mean_squared_error: 1.0906\n",
            "Epoch 56/70\n",
            "1/1 [==============================] - 0s 3ms/step - loss: 1.1728 - root_mean_squared_error: 1.0829\n",
            "Epoch 57/70\n",
            "1/1 [==============================] - 0s 2ms/step - loss: 1.1562 - root_mean_squared_error: 1.0753\n",
            "Epoch 58/70\n",
            "1/1 [==============================] - 0s 2ms/step - loss: 1.1398 - root_mean_squared_error: 1.0676\n",
            "Epoch 59/70\n",
            "1/1 [==============================] - 0s 1ms/step - loss: 1.1235 - root_mean_squared_error: 1.0600\n",
            "Epoch 60/70\n",
            "1/1 [==============================] - 0s 5ms/step - loss: 1.1075 - root_mean_squared_error: 1.0524\n",
            "Epoch 61/70\n",
            "1/1 [==============================] - 0s 1ms/step - loss: 1.0917 - root_mean_squared_error: 1.0448\n",
            "Epoch 62/70\n",
            "1/1 [==============================] - 0s 1ms/step - loss: 1.0762 - root_mean_squared_error: 1.0374\n",
            "Epoch 63/70\n",
            "1/1 [==============================] - 0s 4ms/step - loss: 1.0611 - root_mean_squared_error: 1.0301\n",
            "Epoch 64/70\n",
            "1/1 [==============================] - 0s 3ms/step - loss: 1.0463 - root_mean_squared_error: 1.0229\n",
            "Epoch 65/70\n",
            "1/1 [==============================] - 0s 1ms/step - loss: 1.0321 - root_mean_squared_error: 1.0159\n",
            "Epoch 66/70\n",
            "1/1 [==============================] - 0s 2ms/step - loss: 1.0184 - root_mean_squared_error: 1.0092\n",
            "Epoch 67/70\n",
            "1/1 [==============================] - 0s 1ms/step - loss: 1.0052 - root_mean_squared_error: 1.0026\n",
            "Epoch 68/70\n",
            "1/1 [==============================] - 0s 1ms/step - loss: 0.9927 - root_mean_squared_error: 0.9963\n",
            "Epoch 69/70\n",
            "1/1 [==============================] - 0s 1ms/step - loss: 0.9807 - root_mean_squared_error: 0.9903\n",
            "Epoch 70/70\n",
            "1/1 [==============================] - 0s 1ms/step - loss: 0.9695 - root_mean_squared_error: 0.9846\n"
          ],
          "name": "stdout"
        },
        {
          "output_type": "display_data",
          "data": {
            "image/png": "[encoded data removed]",
            "text/plain": [
              "<Figure size 432x288 with 1 Axes>"
            ]
          },
          "metadata": {
            "tags": [],
            "needs_background": "light"
          }
        },
        {
          "output_type": "display_data",
          "data": {
            "image/png": "[encoded data removed]",
            "text/plain": [
              "<Figure size 432x288 with 1 Axes>"
            ]
          },
          "metadata": {
            "tags": [],
            "needs_background": "light"
          }
        },
        {
          "output_type": "stream",
          "text": [
            "Definet the plot_the_model and plot_the_loss_curve functions.\n"
          ],
          "name": "stdout"
        }
      ]
    }
  ]
}